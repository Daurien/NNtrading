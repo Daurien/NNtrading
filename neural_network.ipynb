{
 "cells": [
  {
   "cell_type": "markdown",
   "metadata": {},
   "source": [
    "<h1>Compute training data</h1>"
   ]
  },
  {
   "cell_type": "code",
   "execution_count": 11,
   "metadata": {},
   "outputs": [],
   "source": [
    "# import pandas as pd\n",
    "# from flag_pennants.compute import runAnalysis\n",
    "\n",
    "# dtype_dict = {\n",
    "#     'Open': 'float64',\n",
    "#     'High': 'float64',\n",
    "#     'Low': 'float64',\n",
    "#     'Close': 'float64',\n",
    "#     'Volume': 'float64'\n",
    "# }\n",
    "\n",
    "# # Define columns to be parsed as dates\n",
    "# date_columns = ['Time']\n",
    "\n",
    "# # Read the CSV file with specified column data types and date parsing\n",
    "# history = pd.read_csv(\"./Data/History/XAUUSD_M5_2023_formatted.csv\", dtype=dtype_dict, parse_dates=date_columns)\n",
    "\n",
    "# _,_,_,_,_ = runAnalysis(history['Close'].to_numpy(), print_results=False)"
   ]
  },
  {
   "cell_type": "markdown",
   "metadata": {},
   "source": [
    "<h1>Import computed datas</h1>"
   ]
  },
  {
   "cell_type": "code",
   "execution_count": 12,
   "metadata": {},
   "outputs": [],
   "source": [
    "import pandas as pd\n",
    "\n",
    "concat_bear_flag_df_full = pd.read_csv('./Data/results/bear_flag_df.csv')\n",
    "concat_bear_pennant_df_full = pd.read_csv('./Data/results/bear_pennant_df.csv')\n",
    "concat_bull_pennant_df_full = pd.read_csv('./Data/results/bull_pennant_df.csv')\n",
    "concat_bull_flag_df_full = pd.read_csv('./Data/results/bull_flag_df.csv')"
   ]
  },
  {
   "cell_type": "markdown",
   "metadata": {},
   "source": [
    "<h1>Shape data for training</h1>"
   ]
  },
  {
   "cell_type": "code",
   "execution_count": 13,
   "metadata": {},
   "outputs": [
    {
     "name": "stdout",
     "output_type": "stream",
     "text": [
      "75.74613686534217\n",
      "20.0\n",
      "216.0\n",
      "(724, 1, 8)\n",
      "(724, 1, 1)\n",
      "(182, 1, 8)\n",
      "(182, 1)\n"
     ]
    }
   ],
   "source": [
    "from sklearn.preprocessing import MinMaxScaler\n",
    "from sklearn.model_selection import train_test_split\n",
    "\n",
    "concat_bear_pennant_df_full = concat_bear_pennant_df_full.rename(columns={'pennant_width' : 'flag_width', 'pennant_height' : 'flag_height'})\n",
    "concat_bull_pennant_df_full = concat_bull_pennant_df_full.rename(columns={'pennant_width' : 'flag_width', 'pennant_height' : 'flag_height'})\n",
    "\n",
    "bull_flag = pd.concat([concat_bull_pennant_df_full, concat_bull_flag_df_full], ignore_index=True)\n",
    "bear_flag = pd.concat([concat_bear_pennant_df_full, concat_bear_flag_df_full], ignore_index=True)\n",
    "\n",
    "\n",
    "print((bull_flag['flag_width'] + bull_flag['pole_width']).mean())\n",
    "print((bull_flag['flag_width'] + bull_flag['pole_width']).min())\n",
    "print((bull_flag['flag_width'] + bull_flag['pole_width']).max())\n",
    "\n",
    "# X_bull = bull_flag.drop(columns=['return', , 'Unnamed: 0', 'id','base_x'])\n",
    "X_bull = bull_flag[['flag_width','flag_height','pole_width','pole_height','support_slope','resist_slope','support_intercept','resist_intercept']]\n",
    "Y_bull = bull_flag[['return']]\n",
    "X_bear = bear_flag[['flag_width','flag_height','pole_width','pole_height','support_slope','resist_slope','support_intercept','resist_intercept']]\n",
    "Y_bear = bear_flag[['return']]\n",
    "\n",
    "sc = MinMaxScaler(feature_range=(0,1))\n",
    "X_bull = sc.fit_transform(X_bull)\n",
    "Y_bull = sc.fit_transform(Y_bull)\n",
    "X_bear = sc.fit_transform(X_bear)\n",
    "Y_bear = sc.fit_transform(Y_bear)\n",
    "\n",
    "split_ratio = 0.2\n",
    "\n",
    "\n",
    "X_train_bull, X_test_bull, Y_train_bull, Y_test_bull = train_test_split(X_bull, Y_bull, test_size=split_ratio, random_state=42)\n",
    "X_train_bear, X_test_bear, Y_train_bear, Y_test_bear = train_test_split(X_bear, Y_bear, test_size=split_ratio, random_state=42)\n",
    "\n",
    "X_train_bull = X_train_bull.reshape((X_train_bull.shape[0], 1, X_train_bull.shape[1]))\n",
    "Y_train_bull = Y_train_bull.reshape((Y_train_bull.shape[0], 1, Y_train_bull.shape[1]))\n",
    "X_test_bull = X_test_bull.reshape((X_test_bull.shape[0], 1, X_test_bull.shape[1]))\n",
    "\n",
    "\n",
    "print(X_train_bull.shape)\n",
    "print(Y_train_bull.shape)\n",
    "print(X_test_bull.shape)\n",
    "print(Y_test_bull.shape)\n"
   ]
  },
  {
   "cell_type": "markdown",
   "metadata": {},
   "source": [
    "<h1>Build & Train model</h1>\n",
    "1 - To estimate max win"
   ]
  },
  {
   "cell_type": "code",
   "execution_count": 44,
   "metadata": {},
   "outputs": [
    {
     "name": "stdout",
     "output_type": "stream",
     "text": [
      "Epoch 1/20\n",
      "\u001b[1m33/33\u001b[0m \u001b[32m━━━━━━━━━━━━━━━━━━━━\u001b[0m\u001b[37m\u001b[0m \u001b[1m2s\u001b[0m 8ms/step - loss: 0.0441 - val_loss: 0.0267\n",
      "Epoch 2/20\n",
      "\u001b[1m33/33\u001b[0m \u001b[32m━━━━━━━━━━━━━━━━━━━━\u001b[0m\u001b[37m\u001b[0m \u001b[1m0s\u001b[0m 3ms/step - loss: 0.0276 - val_loss: 0.0313\n",
      "Epoch 3/20\n",
      "\u001b[1m33/33\u001b[0m \u001b[32m━━━━━━━━━━━━━━━━━━━━\u001b[0m\u001b[37m\u001b[0m \u001b[1m0s\u001b[0m 3ms/step - loss: 0.0258 - val_loss: 0.0338\n",
      "Epoch 4/20\n",
      "\u001b[1m33/33\u001b[0m \u001b[32m━━━━━━━━━━━━━━━━━━━━\u001b[0m\u001b[37m\u001b[0m \u001b[1m0s\u001b[0m 3ms/step - loss: 0.0237 - val_loss: 0.0263\n",
      "Epoch 5/20\n",
      "\u001b[1m33/33\u001b[0m \u001b[32m━━━━━━━━━━━━━━━━━━━━\u001b[0m\u001b[37m\u001b[0m \u001b[1m0s\u001b[0m 3ms/step - loss: 0.0270 - val_loss: 0.0375\n",
      "Epoch 6/20\n",
      "\u001b[1m33/33\u001b[0m \u001b[32m━━━━━━━━━━━━━━━━━━━━\u001b[0m\u001b[37m\u001b[0m \u001b[1m0s\u001b[0m 3ms/step - loss: 0.0296 - val_loss: 0.0389\n",
      "Epoch 7/20\n",
      "\u001b[1m33/33\u001b[0m \u001b[32m━━━━━━━━━━━━━━━━━━━━\u001b[0m\u001b[37m\u001b[0m \u001b[1m0s\u001b[0m 3ms/step - loss: 0.0290 - val_loss: 0.0268\n",
      "Epoch 8/20\n",
      "\u001b[1m33/33\u001b[0m \u001b[32m━━━━━━━━━━━━━━━━━━━━\u001b[0m\u001b[37m\u001b[0m \u001b[1m0s\u001b[0m 2ms/step - loss: 0.0267 - val_loss: 0.0258\n",
      "Epoch 9/20\n",
      "\u001b[1m33/33\u001b[0m \u001b[32m━━━━━━━━━━━━━━━━━━━━\u001b[0m\u001b[37m\u001b[0m \u001b[1m0s\u001b[0m 3ms/step - loss: 0.0255 - val_loss: 0.0269\n",
      "Epoch 10/20\n",
      "\u001b[1m33/33\u001b[0m \u001b[32m━━━━━━━━━━━━━━━━━━━━\u001b[0m\u001b[37m\u001b[0m \u001b[1m0s\u001b[0m 3ms/step - loss: 0.0254 - val_loss: 0.0263\n",
      "Epoch 11/20\n",
      "\u001b[1m33/33\u001b[0m \u001b[32m━━━━━━━━━━━━━━━━━━━━\u001b[0m\u001b[37m\u001b[0m \u001b[1m0s\u001b[0m 3ms/step - loss: 0.0267 - val_loss: 0.0262\n",
      "Epoch 12/20\n",
      "\u001b[1m33/33\u001b[0m \u001b[32m━━━━━━━━━━━━━━━━━━━━\u001b[0m\u001b[37m\u001b[0m \u001b[1m0s\u001b[0m 3ms/step - loss: 0.0282 - val_loss: 0.0261\n",
      "Epoch 13/20\n",
      "\u001b[1m33/33\u001b[0m \u001b[32m━━━━━━━━━━━━━━━━━━━━\u001b[0m\u001b[37m\u001b[0m \u001b[1m0s\u001b[0m 3ms/step - loss: 0.0265 - val_loss: 0.0341\n",
      "Epoch 14/20\n",
      "\u001b[1m33/33\u001b[0m \u001b[32m━━━━━━━━━━━━━━━━━━━━\u001b[0m\u001b[37m\u001b[0m \u001b[1m0s\u001b[0m 3ms/step - loss: 0.0291 - val_loss: 0.0262\n",
      "Epoch 15/20\n",
      "\u001b[1m33/33\u001b[0m \u001b[32m━━━━━━━━━━━━━━━━━━━━\u001b[0m\u001b[37m\u001b[0m \u001b[1m0s\u001b[0m 3ms/step - loss: 0.0256 - val_loss: 0.0271\n",
      "Epoch 16/20\n",
      "\u001b[1m33/33\u001b[0m \u001b[32m━━━━━━━━━━━━━━━━━━━━\u001b[0m\u001b[37m\u001b[0m \u001b[1m0s\u001b[0m 3ms/step - loss: 0.0241 - val_loss: 0.0319\n",
      "Epoch 17/20\n",
      "\u001b[1m33/33\u001b[0m \u001b[32m━━━━━━━━━━━━━━━━━━━━\u001b[0m\u001b[37m\u001b[0m \u001b[1m0s\u001b[0m 3ms/step - loss: 0.0242 - val_loss: 0.0281\n",
      "Epoch 18/20\n",
      "\u001b[1m33/33\u001b[0m \u001b[32m━━━━━━━━━━━━━━━━━━━━\u001b[0m\u001b[37m\u001b[0m \u001b[1m0s\u001b[0m 3ms/step - loss: 0.0254 - val_loss: 0.0268\n",
      "Epoch 19/20\n",
      "\u001b[1m33/33\u001b[0m \u001b[32m━━━━━━━━━━━━━━━━━━━━\u001b[0m\u001b[37m\u001b[0m \u001b[1m0s\u001b[0m 3ms/step - loss: 0.0243 - val_loss: 0.0324\n",
      "Epoch 20/20\n",
      "\u001b[1m33/33\u001b[0m \u001b[32m━━━━━━━━━━━━━━━━━━━━\u001b[0m\u001b[37m\u001b[0m \u001b[1m0s\u001b[0m 3ms/step - loss: 0.0307 - val_loss: 0.0261\n"
     ]
    },
    {
     "data": {
      "text/plain": [
       "<keras.src.callbacks.history.History at 0x18f52daf740>"
      ]
     },
     "execution_count": 44,
     "metadata": {},
     "output_type": "execute_result"
    }
   ],
   "source": [
    "from keras.models import Sequential\n",
    "from keras.layers import LSTM\n",
    "from keras.layers import Dropout\n",
    "from keras.layers import Dense\n",
    "from keras.layers import TimeDistributed\n",
    "\n",
    "# import tensorflow as tf\n",
    "from keras import optimizers\n",
    "from keras.callbacks import History\n",
    "from keras.models import Model\n",
    "from keras.layers import Dense, Dropout, LSTM, Input, Activation, concatenate, Flatten\n",
    "import numpy as np\n",
    "#tf.random.set_seed(20)\n",
    "np.random.seed(10)\n",
    "\n",
    "lstm_input = Input(shape=(1,8), name='lstm_input')\n",
    "flattened_input = Flatten()(lstm_input)  # Flatten the input to (batch_size, 8)\n",
    "inputs = Dense(64, name='first_layer')(flattened_input)\n",
    "inputs = Dense(64, name='dense_layer')(inputs)\n",
    "inputs = Dense(1, name='output_layer')(inputs)\n",
    "output = Activation('linear', name='output')(inputs)\n",
    "model = Model(inputs=lstm_input, outputs=output)\n",
    "adam = optimizers.Adam()\n",
    "model.compile(optimizer=adam, loss='mse')\n",
    "model.fit(x=X_train_bull, y=Y_train_bull, batch_size=20, epochs=20, shuffle=True, validation_split = 0.1)"
   ]
  },
  {
   "cell_type": "code",
   "execution_count": 45,
   "metadata": {},
   "outputs": [
    {
     "name": "stdout",
     "output_type": "stream",
     "text": [
      "\u001b[1m6/6\u001b[0m \u001b[32m━━━━━━━━━━━━━━━━━━━━\u001b[0m\u001b[37m\u001b[0m \u001b[1m0s\u001b[0m 14ms/step\n",
      "(182, 1)\n",
      "Sign predction accuracy: 97.25 %\n",
      "Accuracy: 0.87 %\n"
     ]
    }
   ],
   "source": [
    "y_pred = model.predict(X_test_bull)\n",
    "# print(Y_test_bull)\n",
    "print(y_pred.shape)\n",
    "\n",
    "sign_prediction = ((y_pred * Y_test_bull) > 0).sum() / Y_test_bull.shape[0] * 100\n",
    "with np.errstate(divide='ignore', invalid='ignore'):\n",
    "    accuracy = np.nanmean(np.where(Y_test_bull != 0, abs(y_pred - Y_test_bull) / Y_test_bull, np.nan))\n",
    "\n",
    "print(f'Sign predction accuracy: {sign_prediction:.2f} %')\n",
    "print(f'Accuracy: {accuracy:.2f} %')"
   ]
  },
  {
   "cell_type": "markdown",
   "metadata": {},
   "source": [
    "2 - To estimate trade duration that maximize gain"
   ]
  }
 ],
 "metadata": {
  "kernelspec": {
   "display_name": "Python 3",
   "language": "python",
   "name": "python3"
  },
  "language_info": {
   "codemirror_mode": {
    "name": "ipython",
    "version": 3
   },
   "file_extension": ".py",
   "mimetype": "text/x-python",
   "name": "python",
   "nbconvert_exporter": "python",
   "pygments_lexer": "ipython3",
   "version": "3.12.4"
  }
 },
 "nbformat": 4,
 "nbformat_minor": 2
}
